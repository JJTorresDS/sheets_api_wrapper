{
 "cells": [
  {
   "cell_type": "code",
   "execution_count": 1,
   "id": "916e5e57",
   "metadata": {},
   "outputs": [],
   "source": [
    "import pandas as pd\n",
    "import sheets_connection"
   ]
  },
  {
   "cell_type": "code",
   "execution_count": 2,
   "id": "3efa06f9",
   "metadata": {},
   "outputs": [],
   "source": [
    "#example sheet: https://docs.google.com/spreadsheets/d/1ch1HPp64_rGpbgCud-4Ov1sB5Z-NuMQetuoDh6Z2h-c/edit#gid=0\n",
    "#sheet id: "
   ]
  },
  {
   "cell_type": "code",
   "execution_count": 3,
   "id": "0fc53989",
   "metadata": {},
   "outputs": [],
   "source": [
    "SAMPLE_SPREADSHEET_ID = \"1ch1HPp64_rGpbgCud-4Ov1sB5Z-NuMQetuoDh6Z2h-c\""
   ]
  },
  {
   "cell_type": "code",
   "execution_count": 7,
   "id": "1966fb22",
   "metadata": {},
   "outputs": [
    {
     "name": "stdout",
     "output_type": "stream",
     "text": [
      "Connect to order fact.ipynb \u001b[34msheets_api_wrapper\u001b[m\u001b[m\r\n",
      "credentials.json\r\n"
     ]
    }
   ],
   "source": [
    "!ls .."
   ]
  },
  {
   "cell_type": "code",
   "execution_count": 4,
   "id": "cace79e7",
   "metadata": {},
   "outputs": [
    {
     "ename": "FileNotFoundError",
     "evalue": "[Errno 2] No such file or directory: 'credentials.json'",
     "output_type": "error",
     "traceback": [
      "\u001b[0;31m---------------------------------------------------------------------------\u001b[0m",
      "\u001b[0;31mFileNotFoundError\u001b[0m                         Traceback (most recent call last)",
      "Cell \u001b[0;32mIn[4], line 3\u001b[0m\n\u001b[1;32m      1\u001b[0m \u001b[38;5;66;03m#look for credentials one folder above. This is to make sure credentials are not in the git report\u001b[39;00m\n\u001b[1;32m      2\u001b[0m \u001b[38;5;66;03m# i think is more safe than .gitignore\u001b[39;00m\n\u001b[0;32m----> 3\u001b[0m sheet \u001b[38;5;241m=\u001b[39m \u001b[43msheets_connection\u001b[49m\u001b[38;5;241;43m.\u001b[39;49m\u001b[43mmain\u001b[49m\u001b[43m(\u001b[49m\u001b[43mSAMPLE_SPREADSHEET_ID\u001b[49m\u001b[43m,\u001b[49m\u001b[43m \u001b[49m\u001b[43mCREDENTIALS\u001b[49m\u001b[43m \u001b[49m\u001b[38;5;241;43m=\u001b[39;49m\u001b[43m \u001b[49m\u001b[38;5;124;43m\"\u001b[39;49m\u001b[38;5;124;43m../credentials.json\u001b[39;49m\u001b[38;5;124;43m\"\u001b[39;49m\u001b[43m)\u001b[49m\n",
      "File \u001b[0;32m~/Desktop/projects/26-automate-client-reportin/sheets_api_wrapper/sheets_connection.py:37\u001b[0m, in \u001b[0;36mmain\u001b[0;34m(SAMPLE_SPREADSHEET_ID, CREDENTIALS, SCOPES)\u001b[0m\n\u001b[1;32m     35\u001b[0m   creds\u001b[38;5;241m.\u001b[39mrefresh(Request())\n\u001b[1;32m     36\u001b[0m \u001b[38;5;28;01melse\u001b[39;00m:\n\u001b[0;32m---> 37\u001b[0m   flow \u001b[38;5;241m=\u001b[39m \u001b[43mInstalledAppFlow\u001b[49m\u001b[38;5;241;43m.\u001b[39;49m\u001b[43mfrom_client_secrets_file\u001b[49m\u001b[43m(\u001b[49m\n\u001b[1;32m     38\u001b[0m \u001b[43m      \u001b[49m\u001b[38;5;124;43m\"\u001b[39;49m\u001b[38;5;124;43mcredentials.json\u001b[39;49m\u001b[38;5;124;43m\"\u001b[39;49m\u001b[43m,\u001b[49m\u001b[43m \u001b[49m\u001b[43mSCOPES\u001b[49m\n\u001b[1;32m     39\u001b[0m \u001b[43m  \u001b[49m\u001b[43m)\u001b[49m\n\u001b[1;32m     40\u001b[0m   creds \u001b[38;5;241m=\u001b[39m flow\u001b[38;5;241m.\u001b[39mrun_local_server(port\u001b[38;5;241m=\u001b[39m\u001b[38;5;241m0\u001b[39m)\n\u001b[1;32m     41\u001b[0m \u001b[38;5;66;03m# Save the credentials for the next run\u001b[39;00m\n",
      "File \u001b[0;32m/opt/miniconda3/envs/truv/lib/python3.10/site-packages/google_auth_oauthlib/flow.py:198\u001b[0m, in \u001b[0;36mFlow.from_client_secrets_file\u001b[0;34m(cls, client_secrets_file, scopes, **kwargs)\u001b[0m\n\u001b[1;32m    183\u001b[0m \u001b[38;5;129m@classmethod\u001b[39m\n\u001b[1;32m    184\u001b[0m \u001b[38;5;28;01mdef\u001b[39;00m \u001b[38;5;21mfrom_client_secrets_file\u001b[39m(\u001b[38;5;28mcls\u001b[39m, client_secrets_file, scopes, \u001b[38;5;241m*\u001b[39m\u001b[38;5;241m*\u001b[39mkwargs):\n\u001b[1;32m    185\u001b[0m     \u001b[38;5;124;03m\"\"\"Creates a :class:`Flow` instance from a Google client secrets file.\u001b[39;00m\n\u001b[1;32m    186\u001b[0m \n\u001b[1;32m    187\u001b[0m \u001b[38;5;124;03m    Args:\u001b[39;00m\n\u001b[0;32m   (...)\u001b[0m\n\u001b[1;32m    196\u001b[0m \u001b[38;5;124;03m        Flow: The constructed Flow instance.\u001b[39;00m\n\u001b[1;32m    197\u001b[0m \u001b[38;5;124;03m    \"\"\"\u001b[39;00m\n\u001b[0;32m--> 198\u001b[0m     \u001b[38;5;28;01mwith\u001b[39;00m \u001b[38;5;28;43mopen\u001b[39;49m\u001b[43m(\u001b[49m\u001b[43mclient_secrets_file\u001b[49m\u001b[43m,\u001b[49m\u001b[43m \u001b[49m\u001b[38;5;124;43m\"\u001b[39;49m\u001b[38;5;124;43mr\u001b[39;49m\u001b[38;5;124;43m\"\u001b[39;49m\u001b[43m)\u001b[49m \u001b[38;5;28;01mas\u001b[39;00m json_file:\n\u001b[1;32m    199\u001b[0m         client_config \u001b[38;5;241m=\u001b[39m json\u001b[38;5;241m.\u001b[39mload(json_file)\n\u001b[1;32m    201\u001b[0m     \u001b[38;5;28;01mreturn\u001b[39;00m \u001b[38;5;28mcls\u001b[39m\u001b[38;5;241m.\u001b[39mfrom_client_config(client_config, scopes\u001b[38;5;241m=\u001b[39mscopes, \u001b[38;5;241m*\u001b[39m\u001b[38;5;241m*\u001b[39mkwargs)\n",
      "\u001b[0;31mFileNotFoundError\u001b[0m: [Errno 2] No such file or directory: 'credentials.json'"
     ]
    }
   ],
   "source": [
    "#look for credentials one folder above. This is to make sure credentials are not in the git report\n",
    "# i think is more safe than .gitignore\n",
    "sheet = sheets_connection.main(SAMPLE_SPREADSHEET_ID, CREDENTIALS = \"../credentials.json\")"
   ]
  },
  {
   "cell_type": "code",
   "execution_count": 15,
   "id": "1590ddbd",
   "metadata": {},
   "outputs": [
    {
     "name": "stdout",
     "output_type": "stream",
     "text": [
      "Processing 1 + 6\n",
      "7\n",
      "Processing 2 + 7\n",
      "9\n"
     ]
    }
   ],
   "source": [
    "for row in range(2,4):\n",
    "    num1 = sheet.values().get(spreadsheetId=SAMPLE_SPREADSHEET_ID, range=f\"Sheet1!A{row}\").execute()[\"values\"][0][0]\n",
    "    num2 = sheet.values().get(spreadsheetId=SAMPLE_SPREADSHEET_ID, range=f\"Sheet1!B{row}\").execute()[\"values\"][0][0]\n",
    "    print(f\"Processing {num1} + {num2}\")\n",
    "    print(int(num1)+int(num2))"
   ]
  },
  {
   "cell_type": "code",
   "execution_count": null,
   "id": "8fe9592e",
   "metadata": {},
   "outputs": [],
   "source": []
  }
 ],
 "metadata": {
  "kernelspec": {
   "display_name": "Python 3 (ipykernel)",
   "language": "python",
   "name": "python3"
  },
  "language_info": {
   "codemirror_mode": {
    "name": "ipython",
    "version": 3
   },
   "file_extension": ".py",
   "mimetype": "text/x-python",
   "name": "python",
   "nbconvert_exporter": "python",
   "pygments_lexer": "ipython3",
   "version": "3.10.9"
  }
 },
 "nbformat": 4,
 "nbformat_minor": 5
}
