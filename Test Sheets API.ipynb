{
 "cells": [
  {
   "cell_type": "code",
   "execution_count": 10,
   "id": "916e5e57",
   "metadata": {},
   "outputs": [],
   "source": [
    "import pandas as pd\n",
    "import sheets_connection"
   ]
  },
  {
   "cell_type": "code",
   "execution_count": 11,
   "id": "3efa06f9",
   "metadata": {},
   "outputs": [],
   "source": [
    "#example sheet: https://docs.google.com/spreadsheets/d/1ch1HPp64_rGpbgCud-4Ov1sB5Z-NuMQetuoDh6Z2h-c/edit#gid=0\n",
    "#sheet id: "
   ]
  },
  {
   "cell_type": "code",
   "execution_count": 13,
   "id": "0fc53989",
   "metadata": {},
   "outputs": [],
   "source": [
    "SAMPLE_SPREADSHEET_ID = \"1ch1HPp64_rGpbgCud-4Ov1sB5Z-NuMQetuoDh6Z2h-c\""
   ]
  },
  {
   "cell_type": "code",
   "execution_count": 14,
   "id": "cace79e7",
   "metadata": {},
   "outputs": [],
   "source": [
    "sheet = sheets_connection.main(SAMPLE_SPREADSHEET_ID, CREDENTIALS = \"credentials.json\")"
   ]
  },
  {
   "cell_type": "code",
   "execution_count": 15,
   "id": "1590ddbd",
   "metadata": {},
   "outputs": [
    {
     "name": "stdout",
     "output_type": "stream",
     "text": [
      "Processing 1 + 6\n",
      "7\n",
      "Processing 2 + 7\n",
      "9\n"
     ]
    }
   ],
   "source": [
    "for row in range(2,4):\n",
    "    num1 = sheet.values().get(spreadsheetId=SAMPLE_SPREADSHEET_ID, range=f\"Sheet1!A{row}\").execute()[\"values\"][0][0]\n",
    "    num2 = sheet.values().get(spreadsheetId=SAMPLE_SPREADSHEET_ID, range=f\"Sheet1!B{row}\").execute()[\"values\"][0][0]\n",
    "    print(f\"Processing {num1} + {num2}\")\n",
    "    print(int(num1)+int(num2))"
   ]
  },
  {
   "cell_type": "code",
   "execution_count": null,
   "id": "8fe9592e",
   "metadata": {},
   "outputs": [],
   "source": []
  }
 ],
 "metadata": {
  "kernelspec": {
   "display_name": "Python 3 (ipykernel)",
   "language": "python",
   "name": "python3"
  },
  "language_info": {
   "codemirror_mode": {
    "name": "ipython",
    "version": 3
   },
   "file_extension": ".py",
   "mimetype": "text/x-python",
   "name": "python",
   "nbconvert_exporter": "python",
   "pygments_lexer": "ipython3",
   "version": "3.10.9"
  }
 },
 "nbformat": 4,
 "nbformat_minor": 5
}
